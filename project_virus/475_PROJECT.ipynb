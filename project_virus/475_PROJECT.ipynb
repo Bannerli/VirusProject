{
 "cells": [
  {
   "cell_type": "code",
   "execution_count": 1,
   "metadata": {},
   "outputs": [
    {
     "name": "stdout",
     "output_type": "stream",
     "text": [
      "Success!\n"
     ]
    }
   ],
   "source": [
    "import pandas as pd \n",
    "import random\n",
    "import math\n",
    "import time\n",
    "from sklearn.linear_model import LinearRegression, BayesianRidge\n",
    "from sklearn.model_selection import RandomizedSearchCV, train_test_split\n",
    "from sklearn.preprocessing import PolynomialFeatures\n",
    "from sklearn.tree import DecisionTreeRegressor\n",
    "from sklearn.svm import SVR\n",
    "from sklearn.metrics import mean_squared_error, mean_absolute_error\n",
    "import datetime\n",
    "import operator \n",
    "import matplotlib.pyplot as plt\n",
    "import matplotlib.colors as mcolors\n",
    "from autograd.misc.flatten import flatten_func\n",
    "from autograd import grad\n",
    "from autograd import hessian\n",
    "from autograd import numpy as np\n",
    "import math\n",
    "import copy\n",
    "# this is needed to compensate for %matplotl+ib notebook's tendancy to blow up images when plotted inline\n",
    "from matplotlib import rcParams\n",
    "rcParams['figure.autolayout'] = True\n",
    "\n",
    "%matplotlib notebook\n",
    "%load_ext autoreload\n",
    "%autoreload 2\n",
    "print(\"Success!\")"
   ]
  },
  {
   "cell_type": "code",
   "execution_count": 2,
   "metadata": {},
   "outputs": [],
   "source": [
    "confirmed_df = pd.read_csv('https://raw.githubusercontent.com/CSSEGISandData/COVID-19/master/csse_covid_19_data/csse_covid_19_time_series/time_series_covid19_confirmed_global.csv')\n",
    "deaths_df = pd.read_csv('https://raw.githubusercontent.com/CSSEGISandData/COVID-19/master/csse_covid_19_data/csse_covid_19_time_series/time_series_covid19_deaths_global.csv')\n",
    "recoveries_df = pd.read_csv('https://raw.githubusercontent.com/CSSEGISandData/COVID-19/master/csse_covid_19_data/csse_covid_19_time_series/time_series_covid19_recovered_global.csv')\n",
    "latest_data = pd.read_csv('https://raw.githubusercontent.com/CSSEGISandData/COVID-19/master/csse_covid_19_data/csse_covid_19_daily_reports/06-02-2020.csv')\n",
    "us_medical_data = pd.read_csv('https://raw.githubusercontent.com/CSSEGISandData/COVID-19/master/csse_covid_19_data/csse_covid_19_daily_reports_us/06-02-2020.csv')"
   ]
  },
  {
   "cell_type": "code",
   "execution_count": 3,
   "metadata": {},
   "outputs": [],
   "source": [
    "# print the column name of the confirmed numbers\n",
    "cols = confirmed_df.keys()\n",
    "# we focus on the US region\n",
    "confirmed_us = confirmed_df.loc[confirmed_df['Country/Region'] == 'US', :]\n",
    "# print the deathes in US\n",
    "deaths_us = deaths_df.loc[deaths_df['Country/Region'] == 'US', :]\n",
    "# print the recovered people in US\n",
    "recover_us = recoveries_df.loc[recoveries_df['Country/Region'] == 'US', :]\n",
    "confirmed = confirmed_us.loc[:, cols[4]:cols[-1]]\n",
    "deaths = deaths_us.loc[:, cols[4]:cols[-1]]\n",
    "recover = recover_us.loc[:, cols[4]:cols[-1]]"
   ]
  },
  {
   "cell_type": "code",
   "execution_count": 4,
   "metadata": {},
   "outputs": [],
   "source": [
    "dates = confirmed.keys()\n",
    "us_cases = []\n",
    "us_deaths = [] \n",
    "us_recoveries = [] \n",
    "for i in dates:\n",
    "    us_cases.append(confirmed_df[confirmed_df['Country/Region']=='US'][i].sum())\n",
    "    \n",
    "    us_deaths.append(deaths_df[deaths_df['Country/Region']=='US'][i].sum())\n",
    "    \n",
    "    us_recoveries.append(recoveries_df[recoveries_df['Country/Region']=='US'][i].sum())\n",
    "def daily_increase(data):\n",
    "    d = [] \n",
    "    for i in range(len(data)):\n",
    "        if i == 0:\n",
    "            d.append(data[0])\n",
    "        else:\n",
    "            d.append(data[i]-data[i-1])\n",
    "    return d \n",
    "\n",
    "us_daily_increase = daily_increase(us_cases)\n",
    "us_daily_death = daily_increase(us_deaths)\n",
    "us_daily_recovery = daily_increase(us_recoveries)\n",
    "\n",
    "days_since_1_22 = np.array([i for i in range(len(dates))]).reshape(-1, 1)"
   ]
  },
  {
   "cell_type": "code",
   "execution_count": 5,
   "metadata": {},
   "outputs": [],
   "source": [
    "# future forecasting\n",
    "days_in_future = 10\n",
    "future_forcast = np.array([i for i in range(len(dates)+days_in_future)]).reshape(-1, 1)\n",
    "adjusted_dates = future_forcast[:-10]"
   ]
  },
  {
   "cell_type": "code",
   "execution_count": 6,
   "metadata": {},
   "outputs": [],
   "source": [
    "start = '1/22/2020'\n",
    "start_date = datetime.datetime.strptime(start, '%m/%d/%Y')\n",
    "future_forcast_dates = []\n",
    "for i in range(len(future_forcast)):\n",
    "    future_forcast_dates.append((start_date + datetime.timedelta(days=i)).strftime('%m/%d/%Y'))"
   ]
  },
  {
   "cell_type": "code",
   "execution_count": 7,
   "metadata": {},
   "outputs": [],
   "source": [
    "X_train_confirmed, X_test_confirmed, y_train_confirmed, y_test_confirmed = train_test_split(days_since_1_22, us_cases, test_size=0.3, shuffle=False) "
   ]
  },
  {
   "cell_type": "markdown",
   "metadata": {},
   "source": [
    "Linear regression part"
   ]
  },
  {
   "cell_type": "code",
   "execution_count": 8,
   "metadata": {},
   "outputs": [],
   "source": [
    "reg = LinearRegression().fit(X_train_confirmed, y_train_confirmed)\n",
    "# do the prediction about the \n",
    "linear_test_pred = reg.predict(X_test_confirmed)\n",
    "linear_train_pred = reg.predict(X_train_confirmed)\n",
    "linear_future_pred = reg.predict(future_forcast)"
   ]
  },
  {
   "cell_type": "markdown",
   "metadata": {},
   "source": [
    "polynomial regression"
   ]
  },
  {
   "cell_type": "code",
   "execution_count": 9,
   "metadata": {},
   "outputs": [],
   "source": [
    "# transform our data for polynomial regression\n",
    "poly = PolynomialFeatures(degree = 3)\n",
    "poly_X_train_confirmed = poly.fit_transform(X_train_confirmed)\n",
    "poly_X_test_confirmed = poly.fit_transform(X_test_confirmed)\n",
    "poly_future_forcast = poly.fit_transform(future_forcast)\n",
    "\n",
    "# polynomial regression\n",
    "poly_model = LinearRegression(normalize=True, fit_intercept=False)\n",
    "poly_model.fit(poly_X_train_confirmed, y_train_confirmed)\n",
    "poly_train_pred = poly_model.predict(poly_X_train_confirmed)\n",
    "poly_test_pred = poly_model.predict(poly_X_test_confirmed)\n",
    "poly_future_pred = poly_model.predict(poly_future_forcast)"
   ]
  },
  {
   "cell_type": "markdown",
   "metadata": {},
   "source": [
    "SVM prediction"
   ]
  },
  {
   "cell_type": "code",
   "execution_count": 10,
   "metadata": {},
   "outputs": [],
   "source": [
    "svm_model = SVR(shrinking=True, kernel='poly', gamma=0.01, epsilon=0.1, degree=4, C=0.01)\n",
    "svm_model.fit(X_train_confirmed, y_train_confirmed)\n",
    "svm_test_pred = svm_model.predict(X_test_confirmed)\n",
    "svm_train_pred = svm_model.predict(X_train_confirmed)\n",
    "svm_future_pred = svm_model.predict(future_forcast)"
   ]
  },
  {
   "cell_type": "markdown",
   "metadata": {},
   "source": [
    "neural network"
   ]
  },
  {
   "cell_type": "code",
   "execution_count": 11,
   "metadata": {},
   "outputs": [],
   "source": [
    "import torch\n",
    "import torch.nn.functional as F\n",
    "\n",
    "class Neural_Network(torch.nn.Module):\n",
    "    \n",
    "    def __init__(self, n_feature, n_hidden, n_output):\n",
    "        super(Neural_Network, self).__init__()\n",
    "        self.hidden_layer1 = torch.nn.Linear(n_feature, n_hidden)\n",
    "        #self.hidden_layer2 = torch.nn.Linear(n_hidden, int(n_feature/2))\n",
    "        self.predict_layer = torch.nn.Linear(n_hidden, n_output)\n",
    "\n",
    "    def forward(self, x):\n",
    "        hidden_result1 = self.hidden_layer1(x)\n",
    "        relu_result1 = F.relu(hidden_result1)\n",
    "        #hidden_result2 = self.hidden_layer2(relu_result1)\n",
    "        #relu_result2 = F.relu(hidden_result2)\n",
    "        predict_result = self.predict_layer(relu_result1)\n",
    "        return predict_result"
   ]
  },
  {
   "cell_type": "code",
   "execution_count": 12,
   "metadata": {},
   "outputs": [],
   "source": [
    "# parameters setting\n",
    "TRAIN_TIMES = 2000\n",
    "INPUT_FEATURE_DIM = 1\n",
    "OUTPUT_FEATURE_DIM = 1\n",
    "NEURON_NUM = 64\n",
    "LEARNING_RATE = 0.5"
   ]
  },
  {
   "cell_type": "code",
   "execution_count": 13,
   "metadata": {},
   "outputs": [],
   "source": [
    "#transform all the data into tensor\n",
    "nn_train_x = torch.unsqueeze(torch.Tensor(X_train_confirmed.reshape(-1)), dim=1)\n",
    "nn_train_y = torch.unsqueeze(torch.Tensor(y_train_confirmed), dim=1)\n",
    "nn_test_x = torch.unsqueeze(torch.Tensor(X_test_confirmed.reshape(-1)), dim=1)\n",
    "nn_test_y = torch.unsqueeze(torch.Tensor(y_test_confirmed), dim=1)\n",
    "nn_future_forcast = torch.unsqueeze(torch.Tensor(future_forcast.reshape(-1)), dim=1)"
   ]
  },
  {
   "cell_type": "code",
   "execution_count": 14,
   "metadata": {},
   "outputs": [
    {
     "name": "stdout",
     "output_type": "stream",
     "text": [
      "Neural_Network(\n",
      "  (hidden_layer1): Linear(in_features=1, out_features=64, bias=True)\n",
      "  (predict_layer): Linear(in_features=64, out_features=1, bias=True)\n",
      ")\n"
     ]
    }
   ],
   "source": [
    "nn_model = Neural_Network(n_feature=INPUT_FEATURE_DIM, n_hidden=NEURON_NUM, n_output=OUTPUT_FEATURE_DIM)\n",
    "print(nn_model)\n",
    "optimizer = torch.optim.Adam(nn_model.parameters(), lr=LEARNING_RATE)\n",
    "loss_func = torch.nn.MSELoss()\n",
    "for i in range(TRAIN_TIMES):\n",
    "    prediction = nn_model(nn_train_x)\n",
    "    loss = loss_func(prediction, nn_train_y)\n",
    "    optimizer.zero_grad()\n",
    "    loss.backward()\n",
    "    optimizer.step()\n",
    "\n",
    "nn_test_pred = nn_model(nn_test_x).data.numpy()\n",
    "nn_future_pred = nn_model(nn_future_forcast).data.numpy()"
   ]
  },
  {
   "cell_type": "code",
   "execution_count": 15,
   "metadata": {},
   "outputs": [
    {
     "data": {
      "text/plain": [
       "<matplotlib.legend.Legend at 0x1a24213990>"
      ]
     },
     "execution_count": 15,
     "metadata": {},
     "output_type": "execute_result"
    },
    {
     "data": {
      "image/png": "[encoded data removed]",
      "text/plain": [
       "<Figure size 432x288 with 1 Axes>"
      ]
     },
     "metadata": {
      "needs_background": "light"
     },
     "output_type": "display_data"
    }
   ],
   "source": [
    "#plt.cla()\n",
    "plt.scatter(future_forcast[:-10], us_cases, c = 'blue')\n",
    "# plot the NN prediction\n",
    "plt.plot(future_forcast, nn_future_pred, c = 'yellow')\n",
    "# plot the SVM prediction\n",
    "plt.plot(future_forcast, svm_future_pred, c = 'red')\n",
    "# plot the polynomial prediction\n",
    "plt.plot(future_forcast, poly_future_pred, c = 'purple')\n",
    "#plot the linear regression prediction\n",
    "plt.plot(future_forcast, linear_future_pred, c = 'orange')\n",
    "plt.legend(['Neural Networks Predictions', 'SVM Predictions', 'Polynomial Regression Predictions', 'Linear Regression predictions','Comfirmed cases till now'])"
   ]
  },
  {
   "cell_type": "markdown",
   "metadata": {},
   "source": [
    "Conclusions:\n",
    "\n",
    "In the training data fitting, the performance order is: neural network > polynomial regression > SVM > linear regression\n",
    "In the testing data fitting, the performance order is: neural network > SVM > polynomial regression > linear regression\n",
    "The linear regression predicts the number lower than the factual value, however, SVM and the polynomial regression predict much higher than the factual value.\n",
    "The neural network greatly fits the model and makes the best predictions."
   ]
  }
 ],
 "metadata": {
  "kernelspec": {
   "display_name": "Python 3",
   "language": "python",
   "name": "python3"
  },
  "language_info": {
   "codemirror_mode": {
    "name": "ipython",
    "version": 3
   },
   "file_extension": ".py",
   "mimetype": "text/x-python",
   "name": "python",
   "nbconvert_exporter": "python",
   "pygments_lexer": "ipython3",
   "version": "3.7.4"
  }
 },
 "nbformat": 4,
 "nbformat_minor": 2
}
